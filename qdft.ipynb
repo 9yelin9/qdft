{
 "cells": [
  {
   "cell_type": "code",
   "execution_count": 1,
   "id": "d24713e1-f124-4801-bfec-b0a29b10e239",
   "metadata": {},
   "outputs": [],
   "source": [
    "import numpy as np\n",
    "import matplotlib.pyplot as plt"
   ]
  },
  {
   "cell_type": "code",
   "execution_count": 35,
   "id": "d41cdbdb-976d-4eb4-b2e5-ee386f3360b5",
   "metadata": {},
   "outputs": [
    {
     "name": "stdout",
     "output_type": "stream",
     "text": [
      "[[ 0.  -1.   0.   0.   0.   0.   0.   1. ]\n",
      " [-1.   0.1 -1.   0.   0.   0.   0.   0. ]\n",
      " [ 0.  -1.   0.2 -1.   0.   0.   0.   0. ]\n",
      " [ 0.   0.  -1.   0.3 -1.   0.   0.   0. ]\n",
      " [ 0.   0.   0.  -1.   0.4 -1.   0.   0. ]\n",
      " [ 0.   0.   0.   0.  -1.   0.5 -1.   0. ]\n",
      " [ 0.   0.   0.   0.   0.  -1.   0.6 -1. ]\n",
      " [ 1.   0.   0.   0.   0.   0.  -1.   0.7]]\n",
      "[-1.65120688+0.j -1.39395013+0.j  2.35120688+0.j  2.09395013+0.j\n",
      "  1.05658169+0.j  1.16520014+0.j -0.46520014+0.j -0.35658169+0.j]\n",
      "[[ 0.47866156-0.j -0.3255628 +0.j -0.23856133+0.j -0.3492342 +0.j\n",
      "   0.47687609+0.j -0.09839913+0.j  0.48860814+0.j  0.10091992+0.j]\n",
      " [ 0.55180793+0.j -0.10458411+0.j  0.08224549+0.j  0.40571619+0.j\n",
      "  -0.40293863+0.j -0.37395346+0.j  0.12890145+0.j -0.4408899 +0.j]\n",
      " [ 0.48766829-0.j  0.16931936+0.j  0.05340973+0.j -0.45974365+0.j\n",
      "  -0.09143237+0.j  0.49673441+0.j -0.41575302+0.j -0.30222217+0.j]\n",
      " [ 0.35096696-0.j  0.37447072+0.j -0.19714086+0.j  0.46501536+0.j\n",
      "   0.48125793+0.j -0.10549466+0.j -0.40546042+0.j  0.27267857+0.j]\n",
      " [ 0.19714086-0.j  0.46501536+0.j  0.35096696+0.j -0.37447072+0.j\n",
      "  -0.27267857+0.j -0.40546042+0.j  0.10549466+0.j  0.48125793+0.j]\n",
      " [ 0.05340973-0.j  0.45974365+0.j -0.48766829+0.j  0.16931936+0.j\n",
      "  -0.30222217+0.j  0.41575302+0.j  0.49673441+0.j  0.09143237+0.j]\n",
      " [-0.08224549+0.j  0.40571619+0.j  0.55180793+0.j  0.10458411+0.j\n",
      "   0.4408899 +0.j  0.12890145+0.j  0.37395346+0.j -0.40293863+0.j]\n",
      " [-0.23856133+0.j  0.3492342 +0.j -0.47866156+0.j -0.3255628 +0.j\n",
      "   0.10091992+0.j -0.48860814+0.j -0.09839913+0.j -0.47687609+0.j]]\n"
     ]
    }
   ],
   "source": [
    "h_data = np.genfromtxt('output/hub1d_Ni8_Ne4/soft_hamiltonian_U0.0.txt')\n",
    "h_data_r = h_data[:, :2].astype('int')\n",
    "h_data_v = h_data[:, 2:]\n",
    "\n",
    "Nb = np.max(h_data_r[:, 0]) + 1\n",
    "h = np.zeros((Nb, Nb), dtype='complex')\n",
    "\n",
    "for r, v in zip(h_data_r, h_data_v):\n",
    "    h[r[0], r[1]] = v[0] + 1j*v[1]\n",
    "print(h.real)\n",
    "\n",
    "eigval, eigvec = np.linalg.eig(h)\n",
    "print(eigval)\n",
    "print(eigvec)"
   ]
  }
 ],
 "metadata": {
  "kernelspec": {
   "display_name": "Python 3 (ipykernel)",
   "language": "python",
   "name": "python3"
  },
  "language_info": {
   "codemirror_mode": {
    "name": "ipython",
    "version": 3
   },
   "file_extension": ".py",
   "mimetype": "text/x-python",
   "name": "python",
   "nbconvert_exporter": "python",
   "pygments_lexer": "ipython3",
   "version": "3.12.4"
  }
 },
 "nbformat": 4,
 "nbformat_minor": 5
}
